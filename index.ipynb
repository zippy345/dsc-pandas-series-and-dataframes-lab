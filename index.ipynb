{
 "cells": [
  {
   "cell_type": "markdown",
   "metadata": {},
   "source": [
    "# Understanding Pandas Series and DataFrames - Lab\n",
    "\n",
    "## Introduction\n",
    "\n",
    "In this lab, let's get some hands-on practice working with data cleanup using Pandas.\n",
    "\n",
    "## Objectives\n",
    "You will be able to:\n",
    "\n",
    "- Use the `.map()` and `.apply()` methods to apply a function to a pandas Series or DataFrame \n",
    "- Perform operations to change the structure of pandas DataFrames \n",
    "- Change the index of a pandas DataFrame \n",
    "- Change data types of columns in pandas DataFrames \n",
    "\n",
    "## Let's get started \n",
    "\n",
    "Import the file `'turnstile_180901.txt'`. "
   ]
  },
  {
   "cell_type": "code",
   "execution_count": 118,
   "metadata": {},
   "outputs": [],
   "source": [
    "# Import the required libraries\n",
    "import pandas as pd\n",
    "import matplotlib.pyplot as plt\n",
    "%matplotlib inline"
   ]
  },
  {
   "cell_type": "code",
   "execution_count": 119,
   "metadata": {},
   "outputs": [
    {
     "name": "stdout",
     "output_type": "stream",
     "text": [
      "(197625, 11)\n"
     ]
    },
    {
     "data": {
      "text/html": [
       "<div>\n",
       "<style scoped>\n",
       "    .dataframe tbody tr th:only-of-type {\n",
       "        vertical-align: middle;\n",
       "    }\n",
       "\n",
       "    .dataframe tbody tr th {\n",
       "        vertical-align: top;\n",
       "    }\n",
       "\n",
       "    .dataframe thead th {\n",
       "        text-align: right;\n",
       "    }\n",
       "</style>\n",
       "<table border=\"1\" class=\"dataframe\">\n",
       "  <thead>\n",
       "    <tr style=\"text-align: right;\">\n",
       "      <th></th>\n",
       "      <th>C/A</th>\n",
       "      <th>UNIT</th>\n",
       "      <th>SCP</th>\n",
       "      <th>STATION</th>\n",
       "      <th>LINENAME</th>\n",
       "      <th>DIVISION</th>\n",
       "      <th>DATE</th>\n",
       "      <th>TIME</th>\n",
       "      <th>DESC</th>\n",
       "      <th>ENTRIES</th>\n",
       "      <th>EXITS</th>\n",
       "    </tr>\n",
       "  </thead>\n",
       "  <tbody>\n",
       "    <tr>\n",
       "      <th>0</th>\n",
       "      <td>A002</td>\n",
       "      <td>R051</td>\n",
       "      <td>02-00-00</td>\n",
       "      <td>59 ST</td>\n",
       "      <td>NQR456W</td>\n",
       "      <td>BMT</td>\n",
       "      <td>08/25/2018</td>\n",
       "      <td>00:00:00</td>\n",
       "      <td>REGULAR</td>\n",
       "      <td>6736067</td>\n",
       "      <td>2283184</td>\n",
       "    </tr>\n",
       "    <tr>\n",
       "      <th>1</th>\n",
       "      <td>A002</td>\n",
       "      <td>R051</td>\n",
       "      <td>02-00-00</td>\n",
       "      <td>59 ST</td>\n",
       "      <td>NQR456W</td>\n",
       "      <td>BMT</td>\n",
       "      <td>08/25/2018</td>\n",
       "      <td>04:00:00</td>\n",
       "      <td>REGULAR</td>\n",
       "      <td>6736087</td>\n",
       "      <td>2283188</td>\n",
       "    </tr>\n",
       "    <tr>\n",
       "      <th>2</th>\n",
       "      <td>A002</td>\n",
       "      <td>R051</td>\n",
       "      <td>02-00-00</td>\n",
       "      <td>59 ST</td>\n",
       "      <td>NQR456W</td>\n",
       "      <td>BMT</td>\n",
       "      <td>08/25/2018</td>\n",
       "      <td>08:00:00</td>\n",
       "      <td>REGULAR</td>\n",
       "      <td>6736105</td>\n",
       "      <td>2283229</td>\n",
       "    </tr>\n",
       "    <tr>\n",
       "      <th>3</th>\n",
       "      <td>A002</td>\n",
       "      <td>R051</td>\n",
       "      <td>02-00-00</td>\n",
       "      <td>59 ST</td>\n",
       "      <td>NQR456W</td>\n",
       "      <td>BMT</td>\n",
       "      <td>08/25/2018</td>\n",
       "      <td>12:00:00</td>\n",
       "      <td>REGULAR</td>\n",
       "      <td>6736180</td>\n",
       "      <td>2283314</td>\n",
       "    </tr>\n",
       "    <tr>\n",
       "      <th>4</th>\n",
       "      <td>A002</td>\n",
       "      <td>R051</td>\n",
       "      <td>02-00-00</td>\n",
       "      <td>59 ST</td>\n",
       "      <td>NQR456W</td>\n",
       "      <td>BMT</td>\n",
       "      <td>08/25/2018</td>\n",
       "      <td>16:00:00</td>\n",
       "      <td>REGULAR</td>\n",
       "      <td>6736349</td>\n",
       "      <td>2283384</td>\n",
       "    </tr>\n",
       "  </tbody>\n",
       "</table>\n",
       "</div>"
      ],
      "text/plain": [
       "    C/A  UNIT       SCP STATION LINENAME DIVISION        DATE      TIME  \\\n",
       "0  A002  R051  02-00-00   59 ST  NQR456W      BMT  08/25/2018  00:00:00   \n",
       "1  A002  R051  02-00-00   59 ST  NQR456W      BMT  08/25/2018  04:00:00   \n",
       "2  A002  R051  02-00-00   59 ST  NQR456W      BMT  08/25/2018  08:00:00   \n",
       "3  A002  R051  02-00-00   59 ST  NQR456W      BMT  08/25/2018  12:00:00   \n",
       "4  A002  R051  02-00-00   59 ST  NQR456W      BMT  08/25/2018  16:00:00   \n",
       "\n",
       "      DESC  ENTRIES  \\\n",
       "0  REGULAR  6736067   \n",
       "1  REGULAR  6736087   \n",
       "2  REGULAR  6736105   \n",
       "3  REGULAR  6736180   \n",
       "4  REGULAR  6736349   \n",
       "\n",
       "   EXITS                                                                 \n",
       "0                                            2283184                     \n",
       "1                                            2283188                     \n",
       "2                                            2283229                     \n",
       "3                                            2283314                     \n",
       "4                                            2283384                     "
      ]
     },
     "execution_count": 119,
     "metadata": {},
     "output_type": "execute_result"
    }
   ],
   "source": [
    "# Import the file 'turnstile_180901.txt'\n",
    "df = pd.read_csv('turnstile_180901.txt')\n",
    "\n",
    "# Print the number of rows ans columns in df\n",
    "print(df.shape)\n",
    "\n",
    "# Print the first five rows of df\n",
    "df.head()"
   ]
  },
  {
   "cell_type": "markdown",
   "metadata": {},
   "source": [
    "Rename all the columns to lower case: "
   ]
  },
  {
   "cell_type": "code",
   "execution_count": 120,
   "metadata": {},
   "outputs": [
    {
     "data": {
      "text/plain": [
       "Index(['C/A', 'UNIT', 'SCP', 'STATION', 'LINENAME', 'DIVISION', 'DATE', 'TIME',\n",
       "       'DESC', 'ENTRIES',\n",
       "       'EXITS                                                               '],\n",
       "      dtype='object')"
      ]
     },
     "execution_count": 120,
     "metadata": {},
     "output_type": "execute_result"
    }
   ],
   "source": [
    "# We can check and see what the columns look like with this code:\n",
    "df.columns"
   ]
  },
  {
   "cell_type": "code",
   "execution_count": 121,
   "metadata": {},
   "outputs": [
    {
     "data": {
      "text/plain": [
       "Index(['c/a', 'unit', 'scp', 'station', 'linename', 'division', 'date', 'time',\n",
       "       'desc', 'entries',\n",
       "       'exits                                                               '],\n",
       "      dtype='object')"
      ]
     },
     "execution_count": 121,
     "metadata": {},
     "output_type": "execute_result"
    }
   ],
   "source": [
    "# Rename all the columns to lower case\n",
    "df.columns.str.lower()"
   ]
  },
  {
   "cell_type": "code",
   "execution_count": 122,
   "metadata": {},
   "outputs": [
    {
     "data": {
      "text/plain": [
       "Index(['c/a', 'unit', 'scp', 'station', 'linename', 'division', 'date', 'time',\n",
       "       'desc', 'entries',\n",
       "       'exits                                                               '],\n",
       "      dtype='object')"
      ]
     },
     "execution_count": 122,
     "metadata": {},
     "output_type": "execute_result"
    }
   ],
   "source": [
    "# Now let's check and make sure that worked\n",
    "df.columns= df.columns.str.lower()\n",
    "df.columns"
   ]
  },
  {
   "cell_type": "markdown",
   "metadata": {},
   "source": [
    "Change the index to `'linename'`: "
   ]
  },
  {
   "cell_type": "code",
   "execution_count": 123,
   "metadata": {},
   "outputs": [],
   "source": [
    "# Change the index to 'linename'\n",
    "df.set_index('linename' , inplace= True)"
   ]
  },
  {
   "cell_type": "markdown",
   "metadata": {},
   "source": [
    "Reset the index: "
   ]
  },
  {
   "cell_type": "code",
   "execution_count": 124,
   "metadata": {},
   "outputs": [],
   "source": [
    "# Reset the index\n",
    "df.reset_index('linename' ,inplace= True)"
   ]
  },
  {
   "cell_type": "code",
   "execution_count": 125,
   "metadata": {},
   "outputs": [
    {
     "data": {
      "text/html": [
       "<div>\n",
       "<style scoped>\n",
       "    .dataframe tbody tr th:only-of-type {\n",
       "        vertical-align: middle;\n",
       "    }\n",
       "\n",
       "    .dataframe tbody tr th {\n",
       "        vertical-align: top;\n",
       "    }\n",
       "\n",
       "    .dataframe thead th {\n",
       "        text-align: right;\n",
       "    }\n",
       "</style>\n",
       "<table border=\"1\" class=\"dataframe\">\n",
       "  <thead>\n",
       "    <tr style=\"text-align: right;\">\n",
       "      <th></th>\n",
       "      <th>linename</th>\n",
       "      <th>c/a</th>\n",
       "      <th>unit</th>\n",
       "      <th>scp</th>\n",
       "      <th>station</th>\n",
       "      <th>division</th>\n",
       "      <th>date</th>\n",
       "      <th>time</th>\n",
       "      <th>desc</th>\n",
       "      <th>entries</th>\n",
       "      <th>exits</th>\n",
       "    </tr>\n",
       "  </thead>\n",
       "  <tbody>\n",
       "    <tr>\n",
       "      <th>0</th>\n",
       "      <td>NQR456W</td>\n",
       "      <td>A002</td>\n",
       "      <td>R051</td>\n",
       "      <td>02-00-00</td>\n",
       "      <td>59 ST</td>\n",
       "      <td>BMT</td>\n",
       "      <td>08/25/2018</td>\n",
       "      <td>00:00:00</td>\n",
       "      <td>REGULAR</td>\n",
       "      <td>6736067</td>\n",
       "      <td>2283184</td>\n",
       "    </tr>\n",
       "    <tr>\n",
       "      <th>1</th>\n",
       "      <td>NQR456W</td>\n",
       "      <td>A002</td>\n",
       "      <td>R051</td>\n",
       "      <td>02-00-00</td>\n",
       "      <td>59 ST</td>\n",
       "      <td>BMT</td>\n",
       "      <td>08/25/2018</td>\n",
       "      <td>04:00:00</td>\n",
       "      <td>REGULAR</td>\n",
       "      <td>6736087</td>\n",
       "      <td>2283188</td>\n",
       "    </tr>\n",
       "    <tr>\n",
       "      <th>2</th>\n",
       "      <td>NQR456W</td>\n",
       "      <td>A002</td>\n",
       "      <td>R051</td>\n",
       "      <td>02-00-00</td>\n",
       "      <td>59 ST</td>\n",
       "      <td>BMT</td>\n",
       "      <td>08/25/2018</td>\n",
       "      <td>08:00:00</td>\n",
       "      <td>REGULAR</td>\n",
       "      <td>6736105</td>\n",
       "      <td>2283229</td>\n",
       "    </tr>\n",
       "    <tr>\n",
       "      <th>3</th>\n",
       "      <td>NQR456W</td>\n",
       "      <td>A002</td>\n",
       "      <td>R051</td>\n",
       "      <td>02-00-00</td>\n",
       "      <td>59 ST</td>\n",
       "      <td>BMT</td>\n",
       "      <td>08/25/2018</td>\n",
       "      <td>12:00:00</td>\n",
       "      <td>REGULAR</td>\n",
       "      <td>6736180</td>\n",
       "      <td>2283314</td>\n",
       "    </tr>\n",
       "    <tr>\n",
       "      <th>4</th>\n",
       "      <td>NQR456W</td>\n",
       "      <td>A002</td>\n",
       "      <td>R051</td>\n",
       "      <td>02-00-00</td>\n",
       "      <td>59 ST</td>\n",
       "      <td>BMT</td>\n",
       "      <td>08/25/2018</td>\n",
       "      <td>16:00:00</td>\n",
       "      <td>REGULAR</td>\n",
       "      <td>6736349</td>\n",
       "      <td>2283384</td>\n",
       "    </tr>\n",
       "    <tr>\n",
       "      <th>...</th>\n",
       "      <td>...</td>\n",
       "      <td>...</td>\n",
       "      <td>...</td>\n",
       "      <td>...</td>\n",
       "      <td>...</td>\n",
       "      <td>...</td>\n",
       "      <td>...</td>\n",
       "      <td>...</td>\n",
       "      <td>...</td>\n",
       "      <td>...</td>\n",
       "      <td>...</td>\n",
       "    </tr>\n",
       "    <tr>\n",
       "      <th>197620</th>\n",
       "      <td>R</td>\n",
       "      <td>TRAM2</td>\n",
       "      <td>R469</td>\n",
       "      <td>00-05-01</td>\n",
       "      <td>RIT-ROOSEVELT</td>\n",
       "      <td>RIT</td>\n",
       "      <td>08/31/2018</td>\n",
       "      <td>05:00:00</td>\n",
       "      <td>REGULAR</td>\n",
       "      <td>5554</td>\n",
       "      <td>348</td>\n",
       "    </tr>\n",
       "    <tr>\n",
       "      <th>197621</th>\n",
       "      <td>R</td>\n",
       "      <td>TRAM2</td>\n",
       "      <td>R469</td>\n",
       "      <td>00-05-01</td>\n",
       "      <td>RIT-ROOSEVELT</td>\n",
       "      <td>RIT</td>\n",
       "      <td>08/31/2018</td>\n",
       "      <td>09:00:00</td>\n",
       "      <td>REGULAR</td>\n",
       "      <td>5554</td>\n",
       "      <td>348</td>\n",
       "    </tr>\n",
       "    <tr>\n",
       "      <th>197622</th>\n",
       "      <td>R</td>\n",
       "      <td>TRAM2</td>\n",
       "      <td>R469</td>\n",
       "      <td>00-05-01</td>\n",
       "      <td>RIT-ROOSEVELT</td>\n",
       "      <td>RIT</td>\n",
       "      <td>08/31/2018</td>\n",
       "      <td>13:00:00</td>\n",
       "      <td>REGULAR</td>\n",
       "      <td>5554</td>\n",
       "      <td>348</td>\n",
       "    </tr>\n",
       "    <tr>\n",
       "      <th>197623</th>\n",
       "      <td>R</td>\n",
       "      <td>TRAM2</td>\n",
       "      <td>R469</td>\n",
       "      <td>00-05-01</td>\n",
       "      <td>RIT-ROOSEVELT</td>\n",
       "      <td>RIT</td>\n",
       "      <td>08/31/2018</td>\n",
       "      <td>17:00:00</td>\n",
       "      <td>REGULAR</td>\n",
       "      <td>5554</td>\n",
       "      <td>348</td>\n",
       "    </tr>\n",
       "    <tr>\n",
       "      <th>197624</th>\n",
       "      <td>R</td>\n",
       "      <td>TRAM2</td>\n",
       "      <td>R469</td>\n",
       "      <td>00-05-01</td>\n",
       "      <td>RIT-ROOSEVELT</td>\n",
       "      <td>RIT</td>\n",
       "      <td>08/31/2018</td>\n",
       "      <td>21:00:00</td>\n",
       "      <td>REGULAR</td>\n",
       "      <td>5554</td>\n",
       "      <td>348</td>\n",
       "    </tr>\n",
       "  </tbody>\n",
       "</table>\n",
       "<p>197625 rows × 11 columns</p>\n",
       "</div>"
      ],
      "text/plain": [
       "       linename    c/a  unit       scp        station division        date  \\\n",
       "0       NQR456W   A002  R051  02-00-00          59 ST      BMT  08/25/2018   \n",
       "1       NQR456W   A002  R051  02-00-00          59 ST      BMT  08/25/2018   \n",
       "2       NQR456W   A002  R051  02-00-00          59 ST      BMT  08/25/2018   \n",
       "3       NQR456W   A002  R051  02-00-00          59 ST      BMT  08/25/2018   \n",
       "4       NQR456W   A002  R051  02-00-00          59 ST      BMT  08/25/2018   \n",
       "...         ...    ...   ...       ...            ...      ...         ...   \n",
       "197620        R  TRAM2  R469  00-05-01  RIT-ROOSEVELT      RIT  08/31/2018   \n",
       "197621        R  TRAM2  R469  00-05-01  RIT-ROOSEVELT      RIT  08/31/2018   \n",
       "197622        R  TRAM2  R469  00-05-01  RIT-ROOSEVELT      RIT  08/31/2018   \n",
       "197623        R  TRAM2  R469  00-05-01  RIT-ROOSEVELT      RIT  08/31/2018   \n",
       "197624        R  TRAM2  R469  00-05-01  RIT-ROOSEVELT      RIT  08/31/2018   \n",
       "\n",
       "            time     desc  entries  \\\n",
       "0       00:00:00  REGULAR  6736067   \n",
       "1       04:00:00  REGULAR  6736087   \n",
       "2       08:00:00  REGULAR  6736105   \n",
       "3       12:00:00  REGULAR  6736180   \n",
       "4       16:00:00  REGULAR  6736349   \n",
       "...          ...      ...      ...   \n",
       "197620  05:00:00  REGULAR     5554   \n",
       "197621  09:00:00  REGULAR     5554   \n",
       "197622  13:00:00  REGULAR     5554   \n",
       "197623  17:00:00  REGULAR     5554   \n",
       "197624  21:00:00  REGULAR     5554   \n",
       "\n",
       "        exits                                                                 \n",
       "0                                                 2283184                     \n",
       "1                                                 2283188                     \n",
       "2                                                 2283229                     \n",
       "3                                                 2283314                     \n",
       "4                                                 2283384                     \n",
       "...                                                   ...                     \n",
       "197620                                                348                     \n",
       "197621                                                348                     \n",
       "197622                                                348                     \n",
       "197623                                                348                     \n",
       "197624                                                348                     \n",
       "\n",
       "[197625 rows x 11 columns]"
      ]
     },
     "execution_count": 125,
     "metadata": {},
     "output_type": "execute_result"
    }
   ],
   "source": [
    "df"
   ]
  },
  {
   "cell_type": "markdown",
   "metadata": {},
   "source": [
    "Create another column `'Num_Lines'` that is a count of how many lines pass through a station. Then sort your DataFrame by this column in descending order. \n",
    "\n",
    "*Hint: According to the [data dictionary](http://web.mta.info/developers/resources/nyct/turnstile/ts_Field_Description.txt), LINENAME represents all train lines that can be boarded at a given station. Normally lines are represented by one character. For example, LINENAME 456NQR represents trains 4, 5, 6, N, Q, and R.*"
   ]
  },
  {
   "cell_type": "code",
   "execution_count": 126,
   "metadata": {},
   "outputs": [],
   "source": [
    "# Add a new 'num_lines' column\n",
    "#use map intstead of the forloop to iterate thro' the condition\n",
    "#the conditions are counting how many lines pass thro' a station: LEN()\n",
    "# to check the unique count of thelines: SET()\n",
    "results = df['linename'].map(lambda x : (len(set(x))))\n",
    "#  \n",
    "df['Num_lines'] = results\n",
    "# Sort the DataFrame by 'Num_Lines' in descending order\n",
    "df.sort_values(by='Num_lines', ascending=False, inplace=True)\n"
   ]
  },
  {
   "cell_type": "markdown",
   "metadata": {},
   "source": [
    "Write a function to clean column names: "
   ]
  },
  {
   "cell_type": "code",
   "execution_count": 127,
   "metadata": {},
   "outputs": [
    {
     "data": {
      "text/plain": [
       "Index(['linename', 'c/a', 'unit', 'scp', 'station', 'division', 'date', 'time',\n",
       "       'desc', 'entries',\n",
       "       'exits                                                               ',\n",
       "       'Num_lines'],\n",
       "      dtype='object')"
      ]
     },
     "execution_count": 127,
     "metadata": {},
     "output_type": "execute_result"
    }
   ],
   "source": [
    "# Before we start cleaning, let's look at what we've got\n",
    "\n",
    "df.columns"
   ]
  },
  {
   "cell_type": "code",
   "execution_count": 128,
   "metadata": {},
   "outputs": [],
   "source": [
    "def clean(col_name):\n",
    "    # Clean the column name in any way you want to. Hint: think back to str methods \n",
    "    cleaned = df.columns.map(lambda col: col.lower())   \n",
    "    return cleaned"
   ]
  },
  {
   "cell_type": "code",
   "execution_count": 129,
   "metadata": {},
   "outputs": [],
   "source": [
    "# Use the above function to clean the column names\n",
    "df.columns = clean('Num_lines')"
   ]
  },
  {
   "cell_type": "code",
   "execution_count": 130,
   "metadata": {},
   "outputs": [
    {
     "data": {
      "text/plain": [
       "Index(['linename', 'c/a', 'unit', 'scp', 'station', 'division', 'date', 'time',\n",
       "       'desc', 'entries',\n",
       "       'exits                                                               ',\n",
       "       'num_lines'],\n",
       "      dtype='object')"
      ]
     },
     "execution_count": 130,
     "metadata": {},
     "output_type": "execute_result"
    }
   ],
   "source": [
    "# Check to ensure the column names were cleaned\n",
    "df.columns"
   ]
  },
  {
   "cell_type": "markdown",
   "metadata": {},
   "source": [
    "- Change the data type of the `'date'` column to a date \n",
    "- Add a new column `'day_of_week'` that represents the day of the week"
   ]
  },
  {
   "cell_type": "code",
   "execution_count": 131,
   "metadata": {},
   "outputs": [
    {
     "name": "stdout",
     "output_type": "stream",
     "text": [
      "<class 'pandas.core.frame.DataFrame'>\n",
      "Index: 197625 entries, 132292 to 197624\n",
      "Data columns (total 12 columns):\n",
      " #   Column                                                                Non-Null Count   Dtype \n",
      "---  ------                                                                --------------   ----- \n",
      " 0   linename                                                              197625 non-null  object\n",
      " 1   c/a                                                                   197625 non-null  object\n",
      " 2   unit                                                                  197625 non-null  object\n",
      " 3   scp                                                                   197625 non-null  object\n",
      " 4   station                                                               197625 non-null  object\n",
      " 5   division                                                              197625 non-null  object\n",
      " 6   date                                                                  197625 non-null  object\n",
      " 7   time                                                                  197625 non-null  object\n",
      " 8   desc                                                                  197625 non-null  object\n",
      " 9   entries                                                               197625 non-null  int64 \n",
      " 10  exits                                                                 197625 non-null  int64 \n",
      " 11  num_lines                                                             197625 non-null  int64 \n",
      "dtypes: int64(3), object(9)\n",
      "memory usage: 19.6+ MB\n"
     ]
    }
   ],
   "source": [
    "# just checking the data tpye of the date\n",
    "df.info()"
   ]
  },
  {
   "cell_type": "code",
   "execution_count": 132,
   "metadata": {},
   "outputs": [
    {
     "data": {
      "text/plain": [
       "132292   2018-08-30\n",
       "2686     2018-08-29\n",
       "2673     2018-08-27\n",
       "2674     2018-08-27\n",
       "2675     2018-08-28\n",
       "            ...    \n",
       "112565   2018-08-27\n",
       "112564   2018-08-27\n",
       "112563   2018-08-27\n",
       "112562   2018-08-26\n",
       "197624   2018-08-31\n",
       "Name: date, Length: 197625, dtype: datetime64[ns]"
      ]
     },
     "execution_count": 132,
     "metadata": {},
     "output_type": "execute_result"
    }
   ],
   "source": [
    "\n",
    "# Convert the data type of the 'date' column to a date\n",
    "df['date'] = pd.to_datetime(df['date'])\n",
    "df['date']"
   ]
  },
  {
   "cell_type": "code",
   "execution_count": 133,
   "metadata": {},
   "outputs": [
    {
     "data": {
      "text/plain": [
       "132292     Thursday\n",
       "2686      Wednesday\n",
       "2673         Monday\n",
       "2674         Monday\n",
       "2675        Tuesday\n",
       "            ...    \n",
       "112565       Monday\n",
       "112564       Monday\n",
       "112563       Monday\n",
       "112562       Sunday\n",
       "197624       Friday\n",
       "Name: day_of_the_week, Length: 197625, dtype: object"
      ]
     },
     "execution_count": 133,
     "metadata": {},
     "output_type": "execute_result"
    }
   ],
   "source": [
    "# Add a new column 'day_of_week' that represents the day of the week \n",
    "df['day_of_the_week'] = df['date'].dt.day_name()\n",
    "df['day_of_the_week']"
   ]
  },
  {
   "cell_type": "code",
   "execution_count": 134,
   "metadata": {},
   "outputs": [
    {
     "data": {
      "image/png": "[encoded data removed]",
      "text/plain": [
       "<Figure size 640x480 with 1 Axes>"
      ]
     },
     "metadata": {},
     "output_type": "display_data"
    }
   ],
   "source": [
    "# Group the data by day of week and plot the sum of the numeric columns\n",
    "grouped = df.groupby('day_of_the_week').sum(numeric_only = True)\n",
    "grouped.plot(kind='barh')\n",
    "plt.show()"
   ]
  },
  {
   "cell_type": "markdown",
   "metadata": {},
   "source": [
    "- Remove the index of `grouped` \n",
    "- Print the first five rows of `grouped` "
   ]
  },
  {
   "cell_type": "code",
   "execution_count": 135,
   "metadata": {},
   "outputs": [
    {
     "data": {
      "text/html": [
       "<div>\n",
       "<style scoped>\n",
       "    .dataframe tbody tr th:only-of-type {\n",
       "        vertical-align: middle;\n",
       "    }\n",
       "\n",
       "    .dataframe tbody tr th {\n",
       "        vertical-align: top;\n",
       "    }\n",
       "\n",
       "    .dataframe thead th {\n",
       "        text-align: right;\n",
       "    }\n",
       "</style>\n",
       "<table border=\"1\" class=\"dataframe\">\n",
       "  <thead>\n",
       "    <tr style=\"text-align: right;\">\n",
       "      <th></th>\n",
       "      <th>entries</th>\n",
       "      <th>exits</th>\n",
       "      <th>num_lines</th>\n",
       "    </tr>\n",
       "    <tr>\n",
       "      <th>day_of_the_week</th>\n",
       "      <th></th>\n",
       "      <th></th>\n",
       "      <th></th>\n",
       "    </tr>\n",
       "  </thead>\n",
       "  <tbody>\n",
       "    <tr>\n",
       "      <th>Friday</th>\n",
       "      <td>1110224700078</td>\n",
       "      <td>906799065337</td>\n",
       "      <td>75573</td>\n",
       "    </tr>\n",
       "    <tr>\n",
       "      <th>Monday</th>\n",
       "      <td>1114237052454</td>\n",
       "      <td>911938153513</td>\n",
       "      <td>76110</td>\n",
       "    </tr>\n",
       "    <tr>\n",
       "      <th>Saturday</th>\n",
       "      <td>1115661545514</td>\n",
       "      <td>909142081474</td>\n",
       "      <td>74725</td>\n",
       "    </tr>\n",
       "    <tr>\n",
       "      <th>Sunday</th>\n",
       "      <td>1192306179082</td>\n",
       "      <td>959223750461</td>\n",
       "      <td>75306</td>\n",
       "    </tr>\n",
       "    <tr>\n",
       "      <th>Thursday</th>\n",
       "      <td>1122723988662</td>\n",
       "      <td>920691927110</td>\n",
       "      <td>76607</td>\n",
       "    </tr>\n",
       "    <tr>\n",
       "      <th>Tuesday</th>\n",
       "      <td>1143313287046</td>\n",
       "      <td>942230721477</td>\n",
       "      <td>77303</td>\n",
       "    </tr>\n",
       "    <tr>\n",
       "      <th>Wednesday</th>\n",
       "      <td>1123655222441</td>\n",
       "      <td>920630864687</td>\n",
       "      <td>75713</td>\n",
       "    </tr>\n",
       "  </tbody>\n",
       "</table>\n",
       "</div>"
      ],
      "text/plain": [
       "                       entries  \\\n",
       "day_of_the_week                  \n",
       "Friday           1110224700078   \n",
       "Monday           1114237052454   \n",
       "Saturday         1115661545514   \n",
       "Sunday           1192306179082   \n",
       "Thursday         1122723988662   \n",
       "Tuesday          1143313287046   \n",
       "Wednesday        1123655222441   \n",
       "\n",
       "                 exits                                                                 \\\n",
       "day_of_the_week                                                                         \n",
       "Friday                                                906799065337                      \n",
       "Monday                                                911938153513                      \n",
       "Saturday                                              909142081474                      \n",
       "Sunday                                                959223750461                      \n",
       "Thursday                                              920691927110                      \n",
       "Tuesday                                               942230721477                      \n",
       "Wednesday                                             920630864687                      \n",
       "\n",
       "                 num_lines  \n",
       "day_of_the_week             \n",
       "Friday               75573  \n",
       "Monday               76110  \n",
       "Saturday             74725  \n",
       "Sunday               75306  \n",
       "Thursday             76607  \n",
       "Tuesday              77303  \n",
       "Wednesday            75713  "
      ]
     },
     "execution_count": 135,
     "metadata": {},
     "output_type": "execute_result"
    }
   ],
   "source": [
    "#checking the data set of the grouped data\n",
    "df_1 = grouped\n",
    "df_1"
   ]
  },
  {
   "cell_type": "code",
   "execution_count": 136,
   "metadata": {},
   "outputs": [
    {
     "data": {
      "text/html": [
       "<div>\n",
       "<style scoped>\n",
       "    .dataframe tbody tr th:only-of-type {\n",
       "        vertical-align: middle;\n",
       "    }\n",
       "\n",
       "    .dataframe tbody tr th {\n",
       "        vertical-align: top;\n",
       "    }\n",
       "\n",
       "    .dataframe thead th {\n",
       "        text-align: right;\n",
       "    }\n",
       "</style>\n",
       "<table border=\"1\" class=\"dataframe\">\n",
       "  <thead>\n",
       "    <tr style=\"text-align: right;\">\n",
       "      <th></th>\n",
       "      <th>day_of_the_week</th>\n",
       "      <th>entries</th>\n",
       "      <th>exits</th>\n",
       "      <th>num_lines</th>\n",
       "    </tr>\n",
       "  </thead>\n",
       "  <tbody>\n",
       "    <tr>\n",
       "      <th>0</th>\n",
       "      <td>Friday</td>\n",
       "      <td>1110224700078</td>\n",
       "      <td>906799065337</td>\n",
       "      <td>75573</td>\n",
       "    </tr>\n",
       "    <tr>\n",
       "      <th>1</th>\n",
       "      <td>Monday</td>\n",
       "      <td>1114237052454</td>\n",
       "      <td>911938153513</td>\n",
       "      <td>76110</td>\n",
       "    </tr>\n",
       "    <tr>\n",
       "      <th>2</th>\n",
       "      <td>Saturday</td>\n",
       "      <td>1115661545514</td>\n",
       "      <td>909142081474</td>\n",
       "      <td>74725</td>\n",
       "    </tr>\n",
       "    <tr>\n",
       "      <th>3</th>\n",
       "      <td>Sunday</td>\n",
       "      <td>1192306179082</td>\n",
       "      <td>959223750461</td>\n",
       "      <td>75306</td>\n",
       "    </tr>\n",
       "    <tr>\n",
       "      <th>4</th>\n",
       "      <td>Thursday</td>\n",
       "      <td>1122723988662</td>\n",
       "      <td>920691927110</td>\n",
       "      <td>76607</td>\n",
       "    </tr>\n",
       "  </tbody>\n",
       "</table>\n",
       "</div>"
      ],
      "text/plain": [
       "  day_of_the_week        entries  \\\n",
       "0          Friday  1110224700078   \n",
       "1          Monday  1114237052454   \n",
       "2        Saturday  1115661545514   \n",
       "3          Sunday  1192306179082   \n",
       "4        Thursday  1122723988662   \n",
       "\n",
       "   exits                                                                 \\\n",
       "0                                       906799065337                      \n",
       "1                                       911938153513                      \n",
       "2                                       909142081474                      \n",
       "3                                       959223750461                      \n",
       "4                                       920691927110                      \n",
       "\n",
       "   num_lines  \n",
       "0      75573  \n",
       "1      76110  \n",
       "2      74725  \n",
       "3      75306  \n",
       "4      76607  "
      ]
     },
     "execution_count": 136,
     "metadata": {},
     "output_type": "execute_result"
    }
   ],
   "source": [
    "# Reset the index of grouped\n",
    "grouped = df_1.reset_index(inplace= True)\n",
    "\n",
    "# Print the first five rows of grouped\n",
    "df_1.head()"
   ]
  },
  {
   "cell_type": "markdown",
   "metadata": {},
   "source": [
    "Add a new column `'is_weekend'` that maps the `'day_of_week'` column using the dictionary `weekend_map` "
   ]
  },
  {
   "cell_type": "code",
   "execution_count": 137,
   "metadata": {},
   "outputs": [
    {
     "data": {
      "text/html": [
       "<div>\n",
       "<style scoped>\n",
       "    .dataframe tbody tr th:only-of-type {\n",
       "        vertical-align: middle;\n",
       "    }\n",
       "\n",
       "    .dataframe tbody tr th {\n",
       "        vertical-align: top;\n",
       "    }\n",
       "\n",
       "    .dataframe thead th {\n",
       "        text-align: right;\n",
       "    }\n",
       "</style>\n",
       "<table border=\"1\" class=\"dataframe\">\n",
       "  <thead>\n",
       "    <tr style=\"text-align: right;\">\n",
       "      <th></th>\n",
       "      <th>is_weekend</th>\n",
       "    </tr>\n",
       "  </thead>\n",
       "  <tbody>\n",
       "    <tr>\n",
       "      <th>0</th>\n",
       "      <td>False</td>\n",
       "    </tr>\n",
       "    <tr>\n",
       "      <th>1</th>\n",
       "      <td>False</td>\n",
       "    </tr>\n",
       "    <tr>\n",
       "      <th>2</th>\n",
       "      <td>True</td>\n",
       "    </tr>\n",
       "    <tr>\n",
       "      <th>3</th>\n",
       "      <td>True</td>\n",
       "    </tr>\n",
       "    <tr>\n",
       "      <th>4</th>\n",
       "      <td>False</td>\n",
       "    </tr>\n",
       "    <tr>\n",
       "      <th>5</th>\n",
       "      <td>False</td>\n",
       "    </tr>\n",
       "    <tr>\n",
       "      <th>6</th>\n",
       "      <td>False</td>\n",
       "    </tr>\n",
       "  </tbody>\n",
       "</table>\n",
       "</div>"
      ],
      "text/plain": [
       "   is_weekend\n",
       "0       False\n",
       "1       False\n",
       "2        True\n",
       "3        True\n",
       "4       False\n",
       "5       False\n",
       "6       False"
      ]
     },
     "execution_count": 137,
     "metadata": {},
     "output_type": "execute_result"
    }
   ],
   "source": [
    "# another way of making a new column\n",
    "#form/create a dict for the weekend_map\n",
    "weekend_map= {\n",
    "    \"Monday\"  :False,\n",
    "    \"Tuesday\" :False,\n",
    "    \"Wednesday\":False,\n",
    "    \"Thursday\" :False,\n",
    "    \"Friday\"   :False,\n",
    "    \"Saturday\" :True,\n",
    "    \"Sunday\"   :True\n",
    "}\n",
    "df_1['is_weekend'] =df_1 ['day_of_the_week'].map(weekend_map)\n",
    "pd.DataFrame(df_1['is_weekend'])"
   ]
  },
  {
   "cell_type": "code",
   "execution_count": 138,
   "metadata": {},
   "outputs": [
    {
     "data": {
      "text/plain": [
       "Index(['day_of_the_week', 'entries', 'exits', 'num_lines', 'is_weekend'], dtype='object')"
      ]
     },
     "execution_count": 138,
     "metadata": {},
     "output_type": "execute_result"
    }
   ],
   "source": [
    "df_1.columns = df_1.columns.str.strip()\n",
    "df_1.columns"
   ]
  },
  {
   "cell_type": "code",
   "execution_count": 139,
   "metadata": {},
   "outputs": [
    {
     "data": {
      "image/png": "[encoded data removed]",
      "text/plain": [
       "<Figure size 640x480 with 1 Axes>"
      ]
     },
     "metadata": {},
     "output_type": "display_data"
    }
   ],
   "source": [
    "# Group the data by weekend/weekday and plot the sum of the numeric columns\n",
    "wkend = df_1.groupby('is_weekend').sum(numeric_only = True)\n",
    "wkend[['entries', 'exits']].plot(kind='barh')\n",
    "plt.show()"
   ]
  },
  {
   "cell_type": "code",
   "execution_count": 140,
   "metadata": {},
   "outputs": [
    {
     "data": {
      "text/plain": [
       "Index(['linename', 'c/a', 'unit', 'scp', 'station', 'division', 'date', 'time',\n",
       "       'desc', 'entries',\n",
       "       'exits                                                               ',\n",
       "       'num_lines', 'day_of_the_week'],\n",
       "      dtype='object')"
      ]
     },
     "execution_count": 140,
     "metadata": {},
     "output_type": "execute_result"
    }
   ],
   "source": [
    "df.columns\n"
   ]
  },
  {
   "cell_type": "markdown",
   "metadata": {},
   "source": [
    "Remove the `'c/a'` and `'scp'` columns. "
   ]
  },
  {
   "cell_type": "code",
   "execution_count": 141,
   "metadata": {},
   "outputs": [
    {
     "data": {
      "text/html": [
       "<div>\n",
       "<style scoped>\n",
       "    .dataframe tbody tr th:only-of-type {\n",
       "        vertical-align: middle;\n",
       "    }\n",
       "\n",
       "    .dataframe tbody tr th {\n",
       "        vertical-align: top;\n",
       "    }\n",
       "\n",
       "    .dataframe thead th {\n",
       "        text-align: right;\n",
       "    }\n",
       "</style>\n",
       "<table border=\"1\" class=\"dataframe\">\n",
       "  <thead>\n",
       "    <tr style=\"text-align: right;\">\n",
       "      <th></th>\n",
       "      <th>linename</th>\n",
       "      <th>unit</th>\n",
       "      <th>station</th>\n",
       "      <th>division</th>\n",
       "      <th>date</th>\n",
       "      <th>time</th>\n",
       "      <th>desc</th>\n",
       "      <th>entries</th>\n",
       "      <th>exits</th>\n",
       "      <th>num_lines</th>\n",
       "      <th>day_of_the_week</th>\n",
       "    </tr>\n",
       "  </thead>\n",
       "  <tbody>\n",
       "    <tr>\n",
       "      <th>132292</th>\n",
       "      <td>1237ACENQRSW</td>\n",
       "      <td>R033</td>\n",
       "      <td>TIMES SQ-42 ST</td>\n",
       "      <td>IRT</td>\n",
       "      <td>2018-08-30</td>\n",
       "      <td>00:00:00</td>\n",
       "      <td>REGULAR</td>\n",
       "      <td>1417952</td>\n",
       "      <td>3267016</td>\n",
       "      <td>12</td>\n",
       "      <td>Thursday</td>\n",
       "    </tr>\n",
       "    <tr>\n",
       "      <th>2686</th>\n",
       "      <td>ACENQRS1237W</td>\n",
       "      <td>R032</td>\n",
       "      <td>TIMES SQ-42 ST</td>\n",
       "      <td>BMT</td>\n",
       "      <td>2018-08-29</td>\n",
       "      <td>16:00:00</td>\n",
       "      <td>REGULAR</td>\n",
       "      <td>2836145</td>\n",
       "      <td>3311412</td>\n",
       "      <td>12</td>\n",
       "      <td>Wednesday</td>\n",
       "    </tr>\n",
       "  </tbody>\n",
       "</table>\n",
       "</div>"
      ],
      "text/plain": [
       "            linename  unit         station division       date      time  \\\n",
       "132292  1237ACENQRSW  R033  TIMES SQ-42 ST      IRT 2018-08-30  00:00:00   \n",
       "2686    ACENQRS1237W  R032  TIMES SQ-42 ST      BMT 2018-08-29  16:00:00   \n",
       "\n",
       "           desc  entries  \\\n",
       "132292  REGULAR  1417952   \n",
       "2686    REGULAR  2836145   \n",
       "\n",
       "        exits                                                                 \\\n",
       "132292                                            3267016                      \n",
       "2686                                              3311412                      \n",
       "\n",
       "        num_lines day_of_the_week  \n",
       "132292         12        Thursday  \n",
       "2686           12       Wednesday  "
      ]
     },
     "execution_count": 141,
     "metadata": {},
     "output_type": "execute_result"
    }
   ],
   "source": [
    "# Remove the 'c/a' and 'scp' columns\n",
    "df = df.drop(['c/a','scp'], axis =1)\n",
    "df.head(2)"
   ]
  },
  {
   "cell_type": "markdown",
   "metadata": {},
   "source": [
    "## Analysis Question \n",
    "\n",
    "What is misleading about the day of week and weekend/weekday charts you just plotted?"
   ]
  },
  {
   "cell_type": "markdown",
   "metadata": {},
   "source": [
    "**According to my realization, the data plotted is due to the mixture order of the grouped data which to me {is df_1} has been assigned** "
   ]
  },
  {
   "cell_type": "markdown",
   "metadata": {},
   "source": [
    "## Summary\n",
    "\n",
    "You practiced your data cleanup skills using Pandas."
   ]
  }
 ],
 "metadata": {
  "kernelspec": {
   "display_name": "Python 3 (ipykernel)",
   "language": "python",
   "name": "python3"
  },
  "language_info": {
   "codemirror_mode": {
    "name": "ipython",
    "version": 3
   },
   "file_extension": ".py",
   "mimetype": "text/x-python",
   "name": "python",
   "nbconvert_exporter": "python",
   "pygments_lexer": "ipython3",
   "version": "3.12.7"
  },
  "toc": {
   "base_numbering": 1,
   "nav_menu": {},
   "number_sections": true,
   "sideBar": true,
   "skip_h1_title": false,
   "title_cell": "Table of Contents",
   "title_sidebar": "Contents",
   "toc_cell": false,
   "toc_position": {},
   "toc_section_display": true,
   "toc_window_display": false
  }
 },
 "nbformat": 4,
 "nbformat_minor": 4
}
